{
 "cells": [
  {
   "cell_type": "code",
   "execution_count": 1,
   "metadata": {},
   "outputs": [],
   "source": [
    "\n",
    "!pip install langchain-community"
   ]
  },
  {
   "cell_type": "code",
   "execution_count": 6,
   "metadata": {},
   "outputs": [
    {
     "name": "stdout",
     "output_type": "stream",
     "text": [
      "Tamanho do vetor de embeddings: 1024\n",
      "Alguns valores iniciais do vetor:\n",
      "[-0.22946199774742126, -0.06452084332704544, -0.151449516415596, -0.0007211416959762573, -0.2812967300415039, -0.5014247298240662, 0.07941139489412308, 0.19885574281215668, -0.3935210406780243, 0.2506119906902313]\n"
     ]
    }
   ],
   "source": [
    "import numpy as np\n",
    "from langchain_community.embeddings import OllamaEmbeddings\n",
    "\n",
    "# Define o modelo de embeddings\n",
    "embeddings = OllamaEmbeddings(model=\"mxbai-embed-large\")\n",
    "\n",
    "# Texto simples para gerar o embedding\n",
    "text = input(\"digite um texto?\")\n",
    "\n",
    "# Gera o embedding\n",
    "text_embedding = embeddings.embed_query(text)\n",
    "\n",
    "# Exibe o tamanho do vetor e alguns valores iniciais\n",
    "print(f\"Tamanho do vetor de embeddings: {len(text_embedding)}\")\n",
    "print(\"Alguns valores iniciais do vetor:\")\n",
    "print(text_embedding[:10])"
   ]
  }
 ],
 "metadata": {
  "kernelspec": {
   "display_name": "myenv",
   "language": "python",
   "name": "python3"
  },
  "language_info": {
   "codemirror_mode": {
    "name": "ipython",
    "version": 3
   },
   "file_extension": ".py",
   "mimetype": "text/x-python",
   "name": "python",
   "nbconvert_exporter": "python",
   "pygments_lexer": "ipython3",
   "version": "3.12.3"
  }
 },
 "nbformat": 4,
 "nbformat_minor": 2
}
